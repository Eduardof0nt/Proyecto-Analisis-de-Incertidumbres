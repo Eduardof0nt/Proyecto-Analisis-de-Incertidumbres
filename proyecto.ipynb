{
 "cells": [
  {
   "cell_type": "markdown",
   "metadata": {},
   "source": [
    "# Proyecto"
   ]
  },
  {
   "cell_type": "markdown",
   "metadata": {},
   "source": [
    "# Libraries"
   ]
  },
  {
   "cell_type": "code",
   "execution_count": 24,
   "metadata": {},
   "outputs": [],
   "source": [
    "import serial\n",
    "import sys\n",
    "import glob\n",
    "import time\n",
    "import numpy as np"
   ]
  },
  {
   "cell_type": "markdown",
   "metadata": {},
   "source": [
    "# Functions"
   ]
  },
  {
   "cell_type": "code",
   "execution_count": 20,
   "metadata": {},
   "outputs": [],
   "source": [
    "def listSerialPorts():\n",
    "    \"\"\" Lists serial port names\n",
    "\n",
    "        :raises EnvironmentError:\n",
    "            On unsupported or unknown platforms\n",
    "        :returns:\n",
    "            A list of the serial ports available on the system\n",
    "    \"\"\"\n",
    "    if sys.platform.startswith('win'):\n",
    "        ports = ['COM%s' % (i + 1) for i in range(256)]\n",
    "    elif sys.platform.startswith('linux') or sys.platform.startswith('cygwin'):\n",
    "        # this excludes your current terminal \"/dev/tty\"\n",
    "        ports = glob.glob('/dev/tty[A-Za-z]*')\n",
    "    elif sys.platform.startswith('darwin'):\n",
    "        ports = glob.glob('/dev/tty.*')\n",
    "    else:\n",
    "        raise EnvironmentError('Unsupported platform')\n",
    "\n",
    "    result = []\n",
    "    for port in ports:\n",
    "        try:\n",
    "            s = serial.Serial(port)\n",
    "            s.close()\n",
    "            result.append(port)\n",
    "        except (OSError, serial.SerialException):\n",
    "            pass\n",
    "    return result\n",
    "\n",
    "def connectToPort(n):\n",
    "    ports = listSerialPorts()\n",
    "    return serial.Serial(ports[n])\n",
    "\n",
    "def readValueFromData(data):\n",
    "    # +000.000/0 G S\n",
    "    dataString = data.decode(\"utf-8\").replace('\\r\\n','')\n",
    "    if dataString.endswith(' G S'):\n",
    "        result = dataString.replace(' G S','').replace('/','').replace('+','')\n",
    "        return float(result)\n",
    "    else:\n",
    "        raise Exception(\"Invalied format\")\n",
    "    \n",
    "def serialRead(connection):\n",
    "    while True:\n",
    "          try:\n",
    "              connection.flushInput()\n",
    "              return readValueFromData(connection.readline())\n",
    "          except:\n",
    "              pass\n",
    "    "
   ]
  },
  {
   "cell_type": "markdown",
   "metadata": {},
   "source": [
    "# Connection"
   ]
  },
  {
   "cell_type": "code",
   "execution_count": 21,
   "metadata": {},
   "outputs": [
    {
     "name": "stdout",
     "output_type": "stream",
     "text": [
      "0: /dev/tty.wlan-debug\n",
      "1: /dev/tty.BT-163\n",
      "2: /dev/tty.Bluetooth-Incoming-Port\n"
     ]
    }
   ],
   "source": [
    "\n",
    "ports = listSerialPorts()\n",
    "\n",
    "for i in range(0,len(ports)):\n",
    "    print('{0}: {1}'.format(i, ports[i]))"
   ]
  },
  {
   "cell_type": "code",
   "execution_count": null,
   "metadata": {},
   "outputs": [],
   "source": [
    "port = 3\n",
    "\n",
    "connection = connectToPort(port)"
   ]
  },
  {
   "cell_type": "code",
   "execution_count": 17,
   "metadata": {},
   "outputs": [
    {
     "name": "stdout",
     "output_type": "stream",
     "text": [
      "2.0\n",
      "0.0001\n",
      "200.0001\n",
      "200.0001\n",
      "200.0\n",
      "200.0\n",
      "200.0\n",
      "200.0\n",
      "200.0\n",
      "200.0\n"
     ]
    }
   ],
   "source": [
    "for i in range(0,10):\n",
    "    serialRead(connection)\n",
    "    time.sleep(1)"
   ]
  },
  {
   "cell_type": "code",
   "execution_count": 18,
   "metadata": {},
   "outputs": [],
   "source": [
    "connection.close()"
   ]
  },
  {
   "cell_type": "markdown",
   "metadata": {},
   "source": [
    "# Procedure"
   ]
  },
  {
   "cell_type": "markdown",
   "metadata": {},
   "source": [
    "Data"
   ]
  },
  {
   "cell_type": "code",
   "execution_count": 26,
   "metadata": {},
   "outputs": [],
   "source": [
    "scaleDivision = 0.0001 # g\n",
    "minimumCharge = 0.01 # g\n",
    "nominalCalibrationMass = 200 # g\n",
    "EMPs = { # EMP para masa E1 según la OIML R 111\n",
    "    10: 0.00002,\n",
    "    20: 0.000025,\n",
    "    40: 0.00005,\n",
    "    60: 0.00005,\n",
    "    80: 0.000075,\n",
    "    100: 0.00005,\n",
    "    120: 0.000075,\n",
    "    140: 0.0001,\n",
    "    160: 0.0001,\n",
    "    180: 0.00125,\n",
    "    200: 0.0001,\n",
    "    220: 0.000125\n",
    "}\n"
   ]
  },
  {
   "cell_type": "code",
   "execution_count": null,
   "metadata": {},
   "outputs": [],
   "source": []
  },
  {
   "cell_type": "code",
   "execution_count": 48,
   "metadata": {},
   "outputs": [
    {
     "name": "stdout",
     "output_type": "stream",
     "text": [
      "Iniciando procedimiento de calibración de la balanza.\n",
      "\n",
      "      Paso 1: Prueba de excentricidad\n",
      "      \n",
      "      Se debe tomar un patrón de peso de 200 g y utilizarse en todos los puntos de la prueba conforme se indique en pantalla.\n",
      "      El patrón no se debe cambiar bajo ninguna circunstancia.\n",
      "      \n",
      "\n",
      "Calibración del punto 1, favor posicionar el patrón en el punto Central\n",
      "\n",
      "Favor retire el partón de la balanza.\n",
      "\n",
      "Calibración del punto 2, favor posicionar el patrón en el punto Inferior izquierdo\n",
      "\n",
      "Favor retire el partón de la balanza.\n",
      "\n",
      "Calibración del punto 3, favor posicionar el patrón en el punto Superior izquierdo\n",
      "\n",
      "Favor retire el partón de la balanza.\n",
      "\n",
      "Calibración del punto 4, favor posicionar el patrón en el punto Superior derecho\n",
      "\n",
      "Favor retire el partón de la balanza.\n",
      "\n",
      "Calibración del punto 5, favor posicionar el patrón en el punto Inferior derecho\n",
      "\n",
      "Favor retire el partón de la balanza.\n",
      "\n",
      "Calibración del punto 6, favor posicionar el patrón en el punto Central\n",
      "\n",
      "Favor retire el partón de la balanza.\n",
      "[]\n",
      "[[190   0]\n",
      " [190   0]\n",
      " [190   0]\n",
      " [190   0]\n",
      " [190   0]\n",
      " [190   0]]\n"
     ]
    },
    {
     "ename": "TypeError",
     "evalue": "only size-1 arrays can be converted to Python scalars",
     "output_type": "error",
     "traceback": [
      "\u001b[0;31m---------------------------------------------------------------------------\u001b[0m",
      "\u001b[0;31mTypeError\u001b[0m                                 Traceback (most recent call last)",
      "Cell \u001b[0;32mIn[48], line 45\u001b[0m\n\u001b[1;32m     41\u001b[0m \u001b[38;5;28mprint\u001b[39m(eccentricityPoints)\n\u001b[1;32m     43\u001b[0m \u001b[38;5;66;03m# print((np.vectorize(lambda row: np.abs(row[0]-row[1]-p0)))(eccentricityPoints))\u001b[39;00m\n\u001b[0;32m---> 45\u001b[0m \u001b[38;5;28mprint\u001b[39m(\u001b[43mnp\u001b[49m\u001b[38;5;241;43m.\u001b[39;49m\u001b[43mapply_along_axis\u001b[49m\u001b[43m(\u001b[49m\u001b[38;5;28;43;01mlambda\u001b[39;49;00m\u001b[43m \u001b[49m\u001b[43mrow\u001b[49m\u001b[43m:\u001b[49m\u001b[43m \u001b[49m\u001b[38;5;28;43mfloat\u001b[39;49m\u001b[43m(\u001b[49m\u001b[43mrow\u001b[49m\u001b[43m[\u001b[49m\u001b[38;5;241;43m0\u001b[39;49m\u001b[43m]\u001b[49m\u001b[38;5;241;43m-\u001b[39;49m\u001b[43mrow\u001b[49m\u001b[43m[\u001b[49m\u001b[38;5;241;43m1\u001b[39;49m\u001b[43m]\u001b[49m\u001b[43m \u001b[49m\u001b[38;5;241;43m-\u001b[39;49m\u001b[43m \u001b[49m\u001b[43mp0\u001b[49m\u001b[43m)\u001b[49m\u001b[43m,\u001b[49m\u001b[43m \u001b[49m\u001b[38;5;241;43m1\u001b[39;49m\u001b[43m,\u001b[49m\u001b[43m \u001b[49m\u001b[43meccentricityPoints\u001b[49m\u001b[43m)\u001b[49m)\n\u001b[1;32m     47\u001b[0m \u001b[38;5;66;03m# dEccentricityMax = np.max(np.apply_along_axis(lambda row: np.abs(row[0]-row[1]-p0), 0, eccentricityPoints))\u001b[39;00m\n\u001b[1;32m     48\u001b[0m \n\u001b[1;32m     49\u001b[0m \u001b[38;5;66;03m# print(dEccentricityMax)\u001b[39;00m\n",
      "File \u001b[0;32m<__array_function__ internals>:180\u001b[0m, in \u001b[0;36mapply_along_axis\u001b[0;34m(*args, **kwargs)\u001b[0m\n",
      "File \u001b[0;32m~/opt/anaconda3/envs/main/lib/python3.10/site-packages/numpy/lib/shape_base.py:379\u001b[0m, in \u001b[0;36mapply_along_axis\u001b[0;34m(func1d, axis, arr, *args, **kwargs)\u001b[0m\n\u001b[1;32m    375\u001b[0m \u001b[38;5;28;01mexcept\u001b[39;00m \u001b[38;5;167;01mStopIteration\u001b[39;00m \u001b[38;5;28;01mas\u001b[39;00m e:\n\u001b[1;32m    376\u001b[0m     \u001b[38;5;28;01mraise\u001b[39;00m \u001b[38;5;167;01mValueError\u001b[39;00m(\n\u001b[1;32m    377\u001b[0m         \u001b[38;5;124m'\u001b[39m\u001b[38;5;124mCannot apply_along_axis when any iteration dimensions are 0\u001b[39m\u001b[38;5;124m'\u001b[39m\n\u001b[1;32m    378\u001b[0m     ) \u001b[38;5;28;01mfrom\u001b[39;00m \u001b[38;5;28mNone\u001b[39m\n\u001b[0;32m--> 379\u001b[0m res \u001b[38;5;241m=\u001b[39m asanyarray(\u001b[43mfunc1d\u001b[49m\u001b[43m(\u001b[49m\u001b[43minarr_view\u001b[49m\u001b[43m[\u001b[49m\u001b[43mind0\u001b[49m\u001b[43m]\u001b[49m\u001b[43m,\u001b[49m\u001b[43m \u001b[49m\u001b[38;5;241;43m*\u001b[39;49m\u001b[43margs\u001b[49m\u001b[43m,\u001b[49m\u001b[43m \u001b[49m\u001b[38;5;241;43m*\u001b[39;49m\u001b[38;5;241;43m*\u001b[39;49m\u001b[43mkwargs\u001b[49m\u001b[43m)\u001b[49m)\n\u001b[1;32m    381\u001b[0m \u001b[38;5;66;03m# build a buffer for storing evaluations of func1d.\u001b[39;00m\n\u001b[1;32m    382\u001b[0m \u001b[38;5;66;03m# remove the requested axis, and add the new ones on the end.\u001b[39;00m\n\u001b[1;32m    383\u001b[0m \u001b[38;5;66;03m# laid out so that each write is contiguous.\u001b[39;00m\n\u001b[1;32m    384\u001b[0m \u001b[38;5;66;03m# for a tuple index inds, buff[inds] = func1d(inarr_view[inds])\u001b[39;00m\n\u001b[1;32m    385\u001b[0m buff \u001b[38;5;241m=\u001b[39m zeros(inarr_view\u001b[38;5;241m.\u001b[39mshape[:\u001b[38;5;241m-\u001b[39m\u001b[38;5;241m1\u001b[39m] \u001b[38;5;241m+\u001b[39m res\u001b[38;5;241m.\u001b[39mshape, res\u001b[38;5;241m.\u001b[39mdtype)\n",
      "Cell \u001b[0;32mIn[48], line 45\u001b[0m, in \u001b[0;36m<lambda>\u001b[0;34m(row)\u001b[0m\n\u001b[1;32m     41\u001b[0m \u001b[38;5;28mprint\u001b[39m(eccentricityPoints)\n\u001b[1;32m     43\u001b[0m \u001b[38;5;66;03m# print((np.vectorize(lambda row: np.abs(row[0]-row[1]-p0)))(eccentricityPoints))\u001b[39;00m\n\u001b[0;32m---> 45\u001b[0m \u001b[38;5;28mprint\u001b[39m(np\u001b[38;5;241m.\u001b[39mapply_along_axis(\u001b[38;5;28;01mlambda\u001b[39;00m row: \u001b[38;5;28;43mfloat\u001b[39;49m\u001b[43m(\u001b[49m\u001b[43mrow\u001b[49m\u001b[43m[\u001b[49m\u001b[38;5;241;43m0\u001b[39;49m\u001b[43m]\u001b[49m\u001b[38;5;241;43m-\u001b[39;49m\u001b[43mrow\u001b[49m\u001b[43m[\u001b[49m\u001b[38;5;241;43m1\u001b[39;49m\u001b[43m]\u001b[49m\u001b[43m \u001b[49m\u001b[38;5;241;43m-\u001b[39;49m\u001b[43m \u001b[49m\u001b[43mp0\u001b[49m\u001b[43m)\u001b[49m, \u001b[38;5;241m1\u001b[39m, eccentricityPoints))\n\u001b[1;32m     47\u001b[0m \u001b[38;5;66;03m# dEccentricityMax = np.max(np.apply_along_axis(lambda row: np.abs(row[0]-row[1]-p0), 0, eccentricityPoints))\u001b[39;00m\n\u001b[1;32m     48\u001b[0m \n\u001b[1;32m     49\u001b[0m \u001b[38;5;66;03m# print(dEccentricityMax)\u001b[39;00m\n",
      "\u001b[0;31mTypeError\u001b[0m: only size-1 arrays can be converted to Python scalars"
     ]
    }
   ],
   "source": [
    "print('Iniciando procedimiento de calibración de la balanza.')\n",
    "input('Presione cualquier tecla para continuar.')\n",
    "\n",
    "points = ['Central','Inferior izquierdo','Superior izquierdo','Superior derecho','Inferior derecho','Central']\n",
    "\n",
    "print('''\n",
    "      Paso 1: Prueba de excentricidad\n",
    "      \n",
    "      Se debe tomar un patrón de peso de 200 g y utilizarse en todos los puntos de la prueba conforme se indique en pantalla.\n",
    "      El patrón no se debe cambiar bajo ninguna circunstancia.\n",
    "      ''')\n",
    "\n",
    "input('Presione cualquier tecla para continuar.')\n",
    "\n",
    "eccentricityPoints = []\n",
    "for i in range(0,len(points)):\n",
    "    print('\\nCalibración del punto {0}, favor posicionar el patrón en el punto {1}'.format(i+1,points[i]))\n",
    "    keep = True\n",
    "    currentPoint = []\n",
    "    while keep:\n",
    "        value = 190#serialRead(connection)\n",
    "        if value >= nominalCalibrationMass*0.9:\n",
    "            keep = False\n",
    "            currentPoint.append(value)\n",
    "    print('\\nFavor retire el partón de la balanza.')\n",
    "    keep = True\n",
    "    while keep:\n",
    "        value = 0#serialRead(connection)\n",
    "        if value <= nominalCalibrationMass*0.1:\n",
    "            keep = False\n",
    "            currentPoint.append(value)\n",
    "    \n",
    "    eccentricityPoints.append(currentPoint)\n",
    "    \n",
    "eccentricityPoints = np.array(eccentricityPoints)\n",
    "\n",
    "p0 = eccentricityPoints[-1:0]\n",
    "\n",
    "print(p0)\n",
    "\n",
    "print(eccentricityPoints)\n",
    "\n",
    "# print((np.vectorize(lambda row: np.abs(row[0]-row[1]-p0)))(eccentricityPoints))\n",
    "\n",
    "print(np.apply_along_axis(lambda row: np.abs(row[0]-row[1]-p0), 1, eccentricityPoints))\n",
    "\n",
    "# dEccentricityMax = np.max(np.apply_along_axis(lambda row: np.abs(row[0]-row[1]-p0), 0, eccentricityPoints))\n",
    "\n",
    "# print(dEccentricityMax)\n",
    "            \n",
    "        "
   ]
  }
 ],
 "metadata": {
  "kernelspec": {
   "display_name": "Python 3",
   "language": "python",
   "name": "python3"
  },
  "language_info": {
   "codemirror_mode": {
    "name": "ipython",
    "version": 3
   },
   "file_extension": ".py",
   "mimetype": "text/x-python",
   "name": "python",
   "nbconvert_exporter": "python",
   "pygments_lexer": "ipython3",
   "version": "3.10.8"
  }
 },
 "nbformat": 4,
 "nbformat_minor": 2
}
