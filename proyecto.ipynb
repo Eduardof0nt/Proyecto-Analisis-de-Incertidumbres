{
 "cells": [
  {
   "cell_type": "markdown",
   "metadata": {},
   "source": [
    "# Proyecto"
   ]
  },
  {
   "cell_type": "markdown",
   "metadata": {},
   "source": [
    "# Libraries"
   ]
  },
  {
   "cell_type": "code",
   "execution_count": 24,
   "metadata": {},
   "outputs": [],
   "source": [
    "import serial\n",
    "import sys\n",
    "import glob\n",
    "import time\n",
    "import numpy as np"
   ]
  },
  {
   "cell_type": "markdown",
   "metadata": {},
   "source": [
    "# Functions"
   ]
  },
  {
   "cell_type": "code",
   "execution_count": 20,
   "metadata": {},
   "outputs": [],
   "source": [
    "def listSerialPorts():\n",
    "    \"\"\" Lists serial port names\n",
    "\n",
    "        :raises EnvironmentError:\n",
    "            On unsupported or unknown platforms\n",
    "        :returns:\n",
    "            A list of the serial ports available on the system\n",
    "    \"\"\"\n",
    "    if sys.platform.startswith('win'):\n",
    "        ports = ['COM%s' % (i + 1) for i in range(256)]\n",
    "    elif sys.platform.startswith('linux') or sys.platform.startswith('cygwin'):\n",
    "        # this excludes your current terminal \"/dev/tty\"\n",
    "        ports = glob.glob('/dev/tty[A-Za-z]*')\n",
    "    elif sys.platform.startswith('darwin'):\n",
    "        ports = glob.glob('/dev/tty.*')\n",
    "    else:\n",
    "        raise EnvironmentError('Unsupported platform')\n",
    "\n",
    "    result = []\n",
    "    for port in ports:\n",
    "        try:\n",
    "            s = serial.Serial(port)\n",
    "            s.close()\n",
    "            result.append(port)\n",
    "        except (OSError, serial.SerialException):\n",
    "            pass\n",
    "    return result\n",
    "\n",
    "def connectToPort(n):\n",
    "    ports = listSerialPorts()\n",
    "    return serial.Serial(ports[n])\n",
    "\n",
    "def readValueFromData(data):\n",
    "    # +000.000/0 G S\n",
    "    dataString = data.decode(\"utf-8\").replace('\\r\\n','')\n",
    "    if dataString.endswith(' G S'):\n",
    "        result = dataString.replace(' G S','').replace('/','').replace('+','')\n",
    "        return float(result)\n",
    "    else:\n",
    "        raise Exception(\"Invalied format\")\n",
    "    \n",
    "def serialRead(connection):\n",
    "    while True:\n",
    "          try:\n",
    "              connection.flushInput()\n",
    "              return readValueFromData(connection.readline())\n",
    "          except:\n",
    "              pass\n",
    "    "
   ]
  },
  {
   "cell_type": "markdown",
   "metadata": {},
   "source": [
    "# Connection"
   ]
  },
  {
   "cell_type": "code",
   "execution_count": 21,
   "metadata": {},
   "outputs": [
    {
     "name": "stdout",
     "output_type": "stream",
     "text": [
      "0: /dev/tty.wlan-debug\n",
      "1: /dev/tty.BT-163\n",
      "2: /dev/tty.Bluetooth-Incoming-Port\n"
     ]
    }
   ],
   "source": [
    "\n",
    "ports = listSerialPorts()\n",
    "\n",
    "for i in range(0,len(ports)):\n",
    "    print('{0}: {1}'.format(i, ports[i]))"
   ]
  },
  {
   "cell_type": "code",
   "execution_count": null,
   "metadata": {},
   "outputs": [],
   "source": [
    "port = 3\n",
    "\n",
    "connection = connectToPort(port)"
   ]
  },
  {
   "cell_type": "code",
   "execution_count": 17,
   "metadata": {},
   "outputs": [
    {
     "name": "stdout",
     "output_type": "stream",
     "text": [
      "2.0\n",
      "0.0001\n",
      "200.0001\n",
      "200.0001\n",
      "200.0\n",
      "200.0\n",
      "200.0\n",
      "200.0\n",
      "200.0\n",
      "200.0\n"
     ]
    }
   ],
   "source": [
    "for i in range(0,10):\n",
    "    serialRead(connection)\n",
    "    time.sleep(1)"
   ]
  },
  {
   "cell_type": "code",
   "execution_count": 18,
   "metadata": {},
   "outputs": [],
   "source": [
    "connection.close()"
   ]
  },
  {
   "cell_type": "markdown",
   "metadata": {},
   "source": [
    "# Procedure"
   ]
  },
  {
   "cell_type": "markdown",
   "metadata": {},
   "source": [
    "Data"
   ]
  },
  {
   "cell_type": "code",
   "execution_count": 26,
   "metadata": {},
   "outputs": [],
   "source": [
    "scaleDivision = 0.0001 # g\n",
    "minimumCharge = 0.01 # g\n",
    "nominalCalibrationMass = 200 # g\n",
    "EMPs = { # EMP para masa E1 según la OIML R 111\n",
    "    10: 0.00002,\n",
    "    20: 0.000025,\n",
    "    40: 0.00005,\n",
    "    60: 0.00005,\n",
    "    80: 0.000075,\n",
    "    100: 0.00005,\n",
    "    120: 0.000075,\n",
    "    140: 0.0001,\n",
    "    160: 0.0001,\n",
    "    180: 0.00125,\n",
    "    200: 0.0001,\n",
    "    220: 0.000125\n",
    "}\n"
   ]
  },
  {
   "cell_type": "code",
   "execution_count": 51,
   "metadata": {},
   "outputs": [],
   "source": [
    "import random"
   ]
  },
  {
   "cell_type": "code",
   "execution_count": 52,
   "metadata": {},
   "outputs": [
    {
     "name": "stdout",
     "output_type": "stream",
     "text": [
      "Iniciando procedimiento de calibración de la balanza.\n",
      "\n",
      "      Paso 1: Prueba de excentricidad\n",
      "      \n",
      "      Se debe tomar un patrón de peso de 200 g y utilizarse en todos los puntos de la prueba conforme se indique en pantalla.\n",
      "      El patrón no se debe cambiar bajo ninguna circunstancia.\n",
      "      \n",
      "\n",
      "Calibración del punto 1, favor posicionar el patrón en el punto Central\n",
      "\n",
      "Favor retire el partón de la balanza.\n",
      "\n",
      "Calibración del punto 2, favor posicionar el patrón en el punto Inferior izquierdo\n",
      "\n",
      "Favor retire el partón de la balanza.\n",
      "\n",
      "Calibración del punto 3, favor posicionar el patrón en el punto Superior izquierdo\n",
      "\n",
      "Favor retire el partón de la balanza.\n",
      "\n",
      "Calibración del punto 4, favor posicionar el patrón en el punto Superior derecho\n",
      "\n",
      "Favor retire el partón de la balanza.\n",
      "\n",
      "Calibración del punto 5, favor posicionar el patrón en el punto Inferior derecho\n",
      "\n",
      "Favor retire el partón de la balanza.\n",
      "\n",
      "Calibración del punto 6, favor posicionar el patrón en el punto Central\n",
      "\n",
      "Favor retire el partón de la balanza.\n",
      "[[ 1.99481418e+02 -2.80700014e-01]\n",
      " [ 2.00594409e+02  9.71350284e-01]\n",
      " [ 2.01020717e+02 -1.80634470e-01]\n",
      " [ 1.99642272e+02  9.32489621e-01]\n",
      " [ 1.98778813e+02  1.47148836e-01]\n",
      " [ 1.98407074e+02 -1.70834663e-01]]\n",
      "2.79427691787717\n"
     ]
    }
   ],
   "source": [
    "print('Iniciando procedimiento de calibración de la balanza.')\n",
    "input('Presione cualquier tecla para continuar.')\n",
    "\n",
    "points = ['Central','Inferior izquierdo','Superior izquierdo','Superior derecho','Inferior derecho','Central']\n",
    "\n",
    "print('''\n",
    "      Paso 1: Prueba de excentricidad\n",
    "      \n",
    "      Se debe tomar un patrón de peso de 200 g y utilizarse en todos los puntos de la prueba conforme se indique en pantalla.\n",
    "      El patrón no se debe cambiar bajo ninguna circunstancia.\n",
    "      ''')\n",
    "\n",
    "input('Presione cualquier tecla para continuar.')\n",
    "\n",
    "eccentricityPoints = []\n",
    "for i in range(0,len(points)):\n",
    "    print('\\nCalibración del punto {0}, favor posicionar el patrón en el punto {1}'.format(i+1,points[i]))\n",
    "    keep = True\n",
    "    currentPoint = []\n",
    "    while keep:\n",
    "        value = 200+random.uniform(-2, 2)#serialRead(connection)\n",
    "        if value >= nominalCalibrationMass*0.9:\n",
    "            keep = False\n",
    "            currentPoint.append(value)\n",
    "    print('\\nFavor retire el partón de la balanza.')\n",
    "    keep = True\n",
    "    while keep:\n",
    "        value = 0+random.uniform(-1, 1)#serialRead(connection)\n",
    "        if value <= nominalCalibrationMass*0.1:\n",
    "            keep = False\n",
    "            currentPoint.append(value)\n",
    "    \n",
    "    eccentricityPoints.append(currentPoint)\n",
    "    \n",
    "eccentricityPoints = np.array(eccentricityPoints)\n",
    "\n",
    "p0 = eccentricityPoints[-1,0]\n",
    "\n",
    "print(eccentricityPoints)\n",
    "\n",
    "# print((np.vectorize(lambda row: np.abs(row[0]-row[1]-p0)))(eccentricityPoints))\n",
    "\n",
    "# print(np.apply_along_axis(lambda row: np.abs(row[0]-row[1]-p0), 1, eccentricityPoints))\n",
    "\n",
    "dEccentricityMax = np.max(np.apply_along_axis(lambda row: np.abs(row[0]-row[1]-p0), 1, eccentricityPoints))\n",
    "\n",
    "print(dEccentricityMax)\n",
    "            \n",
    "        "
   ]
  }
 ],
 "metadata": {
  "kernelspec": {
   "display_name": "Python 3",
   "language": "python",
   "name": "python3"
  },
  "language_info": {
   "codemirror_mode": {
    "name": "ipython",
    "version": 3
   },
   "file_extension": ".py",
   "mimetype": "text/x-python",
   "name": "python",
   "nbconvert_exporter": "python",
   "pygments_lexer": "ipython3",
   "version": "3.10.8"
  }
 },
 "nbformat": 4,
 "nbformat_minor": 2
}
