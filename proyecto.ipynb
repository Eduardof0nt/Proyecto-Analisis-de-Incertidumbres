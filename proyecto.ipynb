{
 "cells": [
  {
   "cell_type": "markdown",
   "metadata": {},
   "source": [
    "# Proyecto"
   ]
  },
  {
   "cell_type": "markdown",
   "metadata": {},
   "source": [
    "# Libraries"
   ]
  },
  {
   "cell_type": "code",
   "execution_count": 24,
   "metadata": {},
   "outputs": [],
   "source": [
    "import serial\n",
    "import sys\n",
    "import glob\n",
    "import time\n",
    "import numpy as np"
   ]
  },
  {
   "cell_type": "markdown",
   "metadata": {},
   "source": [
    "# Functions"
   ]
  },
  {
   "cell_type": "code",
   "execution_count": 20,
   "metadata": {},
   "outputs": [],
   "source": [
    "def listSerialPorts():\n",
    "    \"\"\" Lists serial port names\n",
    "\n",
    "        :raises EnvironmentError:\n",
    "            On unsupported or unknown platforms\n",
    "        :returns:\n",
    "            A list of the serial ports available on the system\n",
    "    \"\"\"\n",
    "    if sys.platform.startswith('win'):\n",
    "        ports = ['COM%s' % (i + 1) for i in range(256)]\n",
    "    elif sys.platform.startswith('linux') or sys.platform.startswith('cygwin'):\n",
    "        # this excludes your current terminal \"/dev/tty\"\n",
    "        ports = glob.glob('/dev/tty[A-Za-z]*')\n",
    "    elif sys.platform.startswith('darwin'):\n",
    "        ports = glob.glob('/dev/tty.*')\n",
    "    else:\n",
    "        raise EnvironmentError('Unsupported platform')\n",
    "\n",
    "    result = []\n",
    "    for port in ports:\n",
    "        try:\n",
    "            s = serial.Serial(port)\n",
    "            s.close()\n",
    "            result.append(port)\n",
    "        except (OSError, serial.SerialException):\n",
    "            pass\n",
    "    return result\n",
    "\n",
    "def connectToPort(n):\n",
    "    ports = listSerialPorts()\n",
    "    return serial.Serial(ports[n])\n",
    "\n",
    "def readValueFromData(data):\n",
    "    # +000.000/0 G S\n",
    "    dataString = data.decode(\"utf-8\").replace('\\r\\n','')\n",
    "    if dataString.endswith(' G S'):\n",
    "        result = dataString.replace(' G S','').replace('/','').replace('+','')\n",
    "        return float(result)\n",
    "    else:\n",
    "        raise Exception(\"Invalied format\")\n",
    "    \n",
    "def serialRead(connection):\n",
    "    while True:\n",
    "          try:\n",
    "              connection.flushInput()\n",
    "              return readValueFromData(connection.readline())\n",
    "          except:\n",
    "              pass\n",
    "    "
   ]
  },
  {
   "cell_type": "markdown",
   "metadata": {},
   "source": [
    "# Connection"
   ]
  },
  {
   "cell_type": "code",
   "execution_count": 54,
   "metadata": {},
   "outputs": [
    {
     "name": "stdout",
     "output_type": "stream",
     "text": [
      "1: /dev/tty.wlan-debug\n",
      "2: /dev/tty.BT-163\n",
      "3: /dev/tty.Bluetooth-Incoming-Port\n"
     ]
    }
   ],
   "source": [
    "\n",
    "ports = listSerialPorts()\n",
    "\n",
    "for i in range(0,len(ports)):\n",
    "    print('{0}: {1}'.format(i+1, ports[i]))"
   ]
  },
  {
   "cell_type": "code",
   "execution_count": null,
   "metadata": {},
   "outputs": [],
   "source": [
    "port = 3\n",
    "\n",
    "connection = connectToPort(port)"
   ]
  },
  {
   "cell_type": "code",
   "execution_count": 17,
   "metadata": {},
   "outputs": [
    {
     "name": "stdout",
     "output_type": "stream",
     "text": [
      "2.0\n",
      "0.0001\n",
      "200.0001\n",
      "200.0001\n",
      "200.0\n",
      "200.0\n",
      "200.0\n",
      "200.0\n",
      "200.0\n",
      "200.0\n"
     ]
    }
   ],
   "source": [
    "# for i in range(0,10):\n",
    "#     serialRead(connection)\n",
    "#     time.sleep(1)"
   ]
  },
  {
   "cell_type": "code",
   "execution_count": 18,
   "metadata": {},
   "outputs": [],
   "source": [
    "# connection.close()"
   ]
  },
  {
   "cell_type": "markdown",
   "metadata": {},
   "source": [
    "# Procedure"
   ]
  },
  {
   "cell_type": "markdown",
   "metadata": {},
   "source": [
    "Data"
   ]
  },
  {
   "cell_type": "code",
   "execution_count": 73,
   "metadata": {},
   "outputs": [],
   "source": [
    "scaleDivision = 0.0001 # g\n",
    "minimumCharge = 0.01 # g\n",
    "nominalCalibrationMass = 200 # g\n",
    "massCorrection = 0 # g\n",
    "EMPs = { # EMP para masa E1 según la OIML R 111\n",
    "    10: 0.00002,\n",
    "    20: 0.000025,\n",
    "    40: 0.00005,\n",
    "    60: 0.00005,\n",
    "    80: 0.000075,\n",
    "    100: 0.00005,\n",
    "    120: 0.000075,\n",
    "    140: 0.0001,\n",
    "    160: 0.0001,\n",
    "    180: 0.00125,\n",
    "    200: 0.0001,\n",
    "    220: 0.000125\n",
    "}\n"
   ]
  },
  {
   "cell_type": "code",
   "execution_count": null,
   "metadata": {},
   "outputs": [],
   "source": []
  },
  {
   "cell_type": "code",
   "execution_count": 51,
   "metadata": {},
   "outputs": [],
   "source": [
    "import random"
   ]
  },
  {
   "cell_type": "code",
   "execution_count": 75,
   "metadata": {},
   "outputs": [
    {
     "name": "stdout",
     "output_type": "stream",
     "text": [
      "Iniciando procedimiento de calibración de la balanza.\n",
      "|------------------------------------------------------------------------------------------------------------------------|\n",
      "\n",
      "Paso 1: Prueba de excentricidad\n",
      "\n",
      "Se debe tomar un patrón de peso de 200 g y utilizarse en todos los puntos de la prueba conforme se indique en pantalla.\n",
      "El patrón no se debe cambiar bajo ninguna circunstancia.\n",
      "      \n",
      "\n",
      "Calibración del punto 1, favor posicionar el patrón en el punto Central\n",
      "\n",
      "Favor retire el partón de la balanza.\n",
      "\n",
      "Calibración del punto 2, favor posicionar el patrón en el punto Inferior izquierdo\n",
      "\n",
      "Favor retire el partón de la balanza.\n",
      "\n",
      "Calibración del punto 3, favor posicionar el patrón en el punto Superior izquierdo\n",
      "\n",
      "Favor retire el partón de la balanza.\n",
      "\n",
      "Calibración del punto 4, favor posicionar el patrón en el punto Superior derecho\n",
      "\n",
      "Favor retire el partón de la balanza.\n",
      "\n",
      "Calibración del punto 5, favor posicionar el patrón en el punto Inferior derecho\n",
      "\n",
      "Favor retire el partón de la balanza.\n",
      "\n",
      "Calibración del punto 6, favor posicionar el patrón en el punto Central\n",
      "\n",
      "Favor retire el partón de la balanza.\n",
      "[[ 2.01566119e+02  1.80417628e-01]\n",
      " [ 1.98196764e+02 -4.12679955e-01]\n",
      " [ 2.00460264e+02 -6.01054014e-01]\n",
      " [ 2.00584821e+02  2.34983290e-01]\n",
      " [ 2.00158982e+02 -9.05068612e-01]\n",
      " [ 1.98011445e+02 -6.30430263e-01]]\n",
      "3.374256653333987\n",
      "|------------------------------------------------------------------------------------------------------------------------|\n",
      "\n",
      "Paso 2: Prueba por error de indicación\n",
      "\n",
      "Se debe tomar los patrones según se van indicando en pantalla e ir posicionándolos en la pesa.\n",
      "Si no se cuenta con el valor indicado o éste no es un valor estandar para las pesas de calibración, utilizar varias,\n",
      "de tal forma que sumen la cantidad necesaria de masa.\n",
      "Es recomendado utilizar una sola pesa para cada valor (ej. siempre utilizar la misma pesa de 200 g cuendo se necesite).\n",
      "      \n",
      "\n",
      "Posicionar 10 g en la balanza.\n",
      "\n",
      "Favor retire el partón de la balanza.\n",
      "\n",
      "Posicionar 20 g en la balanza.\n",
      "\n",
      "Favor retire el partón de la balanza.\n",
      "\n",
      "Posicionar 40 g en la balanza.\n",
      "\n",
      "Favor retire el partón de la balanza.\n",
      "\n",
      "Posicionar 60 g en la balanza.\n",
      "\n",
      "Favor retire el partón de la balanza.\n",
      "\n",
      "Posicionar 80 g en la balanza.\n",
      "\n",
      "Favor retire el partón de la balanza.\n",
      "\n",
      "Posicionar 100 g en la balanza.\n",
      "\n",
      "Favor retire el partón de la balanza.\n",
      "\n",
      "Posicionar 120 g en la balanza.\n",
      "\n",
      "Favor retire el partón de la balanza.\n",
      "\n",
      "Posicionar 140 g en la balanza.\n",
      "\n",
      "Favor retire el partón de la balanza.\n",
      "\n",
      "Posicionar 160 g en la balanza.\n",
      "\n",
      "Favor retire el partón de la balanza.\n",
      "\n",
      "Posicionar 180 g en la balanza.\n",
      "\n",
      "Favor retire el partón de la balanza.\n",
      "\n",
      "Posicionar 200 g en la balanza.\n",
      "\n",
      "Favor retire el partón de la balanza.\n",
      "\n",
      "Posicionar 220 g en la balanza.\n",
      "\n",
      "Favor retire el partón de la balanza.\n",
      "[[ 1.00000000e+01  9.82741029e+00 -9.66098292e-01 -1.72609707e-01]\n",
      " [ 2.00000000e+01  2.15511609e+01  9.71810510e-01  1.55113585e+00]\n",
      " [ 4.00000000e+01  4.00269438e+01  2.43885674e-01  2.68938002e-02]\n",
      " [ 6.00000000e+01  6.06125980e+01 -8.76424986e-02  6.12548009e-01]\n",
      " [ 8.00000000e+01  8.03466853e+01 -2.51674119e-01  3.46610331e-01]\n",
      " [ 1.00000000e+02  1.00324382e+02  4.44869100e-01  3.24332324e-01]\n",
      " [ 1.20000000e+02  1.21803708e+02  7.78262551e-01  1.80363267e+00]\n",
      " [ 1.40000000e+02  1.40525994e+02 -8.00610763e-01  5.25894317e-01]\n",
      " [ 1.60000000e+02  1.59177846e+02  8.71528044e-01 -8.22253767e-01]\n",
      " [ 1.80000000e+02  1.78270913e+02  2.33033732e-01 -1.73033696e+00]\n",
      " [ 2.00000000e+02  1.99664501e+02 -5.41142042e-01 -3.35598951e-01]\n",
      " [ 2.20000000e+02  2.18685646e+02 -9.17078837e-01 -1.31447882e+00]]\n"
     ]
    }
   ],
   "source": [
    "print('Iniciando procedimiento de calibración de la balanza.')\n",
    "input('Presione enter para continuar.')\n",
    "\n",
    "# PASO 1\n",
    "\n",
    "print('|'+'-'*120+'|')\n",
    "\n",
    "print('''\n",
    "Paso 1: Prueba de excentricidad\n",
    "\n",
    "Se debe tomar un patrón de peso de 200 g y utilizarse en todos los puntos de la prueba conforme se indique en pantalla.\n",
    "El patrón no se debe cambiar bajo ninguna circunstancia.\n",
    "      ''')\n",
    "\n",
    "input('Presione enter para continuar.')\n",
    "\n",
    "points = ['Central','Inferior izquierdo','Superior izquierdo','Superior derecho','Inferior derecho','Central']\n",
    "\n",
    "eccentricityPoints = []\n",
    "for i in range(0,len(points)):\n",
    "    print('\\nCalibración del punto {0}, favor posicionar el patrón en el punto {1}'.format(i+1,points[i]))\n",
    "    keep = True\n",
    "    currentPoint = []\n",
    "    while keep:\n",
    "        value = 200+random.uniform(-2, 2)# serialRead(connection)\n",
    "        if value >= nominalCalibrationMass*0.9:\n",
    "            keep = False\n",
    "            currentPoint.append(value)\n",
    "    print('\\nFavor retire el partón de la balanza.')\n",
    "    keep = True\n",
    "    while keep:\n",
    "        value = 0+random.uniform(-1, 1)# serialRead(connection)\n",
    "        if value <= nominalCalibrationMass*0.1:\n",
    "            keep = False\n",
    "            currentPoint.append(value)\n",
    "    \n",
    "    eccentricityPoints.append(currentPoint)\n",
    "    \n",
    "eccentricityPoints = np.array(eccentricityPoints)\n",
    "\n",
    "p0 = eccentricityPoints[-1,0]\n",
    "\n",
    "# print(eccentricityPoints)\n",
    "\n",
    "# print((np.vectorize(lambda row: np.abs(row[0]-row[1]-p0)))(eccentricityPoints))\n",
    "\n",
    "# print(np.apply_along_axis(lambda row: np.abs(row[0]-row[1]-p0), 1, eccentricityPoints))\n",
    "\n",
    "dEccentricityMax = np.max(np.apply_along_axis(lambda row: np.abs(row[0]-row[1]-p0), 1, eccentricityPoints))\n",
    "\n",
    "print(eccentricityPoints)\n",
    "\n",
    "print(dEccentricityMax)\n",
    "\n",
    "# PASO 2\n",
    "\n",
    "print('|'+'-'*120+'|')\n",
    "\n",
    "print('''\n",
    "Paso 2: Prueba por error de indicación\n",
    "\n",
    "Se debe tomar los patrones según se van indicando en pantalla e ir posicionándolos en la pesa.\n",
    "Si no se cuenta con el valor indicado o éste no es un valor estandar para las pesas de calibración, utilizar varias,\n",
    "de tal forma que sumen la cantidad necesaria de masa.\n",
    "Es recomendado utilizar una sola pesa para cada valor (ej. siempre utilizar la misma pesa de 200 g cuendo se necesite).\n",
    "      ''')\n",
    "\n",
    "input('Presione enter para continuar.')\n",
    "\n",
    "indicationPoints = []\n",
    "EMPkeys = list(EMPs.keys())\n",
    "for i in range(0,len(EMPkeys)):\n",
    "    print('\\nPosicionar {0} g en la balanza.'.format(EMPkeys[i]))\n",
    "    keep = True\n",
    "    currentPoint = [EMPkeys[i]]\n",
    "    while keep:\n",
    "        value = EMPkeys[i]+random.uniform(-2, 2)# serialRead(connection)\n",
    "        if value >= EMPkeys[i]*0.98:\n",
    "            keep = False\n",
    "            currentPoint.append(value)\n",
    "    print('\\nFavor retire el partón de la balanza.')\n",
    "    keep = True\n",
    "    while keep:\n",
    "        value = 0+random.uniform(-1, 1)# serialRead(connection)\n",
    "        if value <= EMPkeys[i]*0.18:\n",
    "            keep = False\n",
    "            currentPoint.append(value)\n",
    "    \n",
    "    indicationPoints.append(currentPoint)\n",
    "\n",
    "indicationPoints = np.array(indicationPoints)\n",
    "\n",
    "# Punto de calibración (g), Indicación de la balanza (g), Indicación de descarga (g), Error de indicación (g)\n",
    "indicationPoints = np.concatenate((indicationPoints,np.transpose(np.array([np.apply_along_axis(lambda row: row[1]-row[0]-EMPs[row[0]], 1, indicationPoints)]))), axis=1)\n",
    "\n",
    "print(indicationPoints)\n"
   ]
  },
  {
   "cell_type": "code",
   "execution_count": 94,
   "metadata": {},
   "outputs": [
    {
     "name": "stdout",
     "output_type": "stream",
     "text": [
      "[[1.67774099e-05 2.09717623e-05 4.19435246e-05 4.19435246e-05\n",
      "  6.29152870e-05 4.19435246e-05 6.29152870e-05 8.38870493e-05\n",
      "  8.38870493e-05 1.04858812e-03 8.38870493e-05 1.04858812e-04]]\n"
     ]
    }
   ],
   "source": [
    "# ures y ures0, son iguales entonces se suman en una sola\n",
    "ures = (scaleDivision/np.sqrt(6))*np.ones((1,len(indicationPoints)))\n",
    "\n",
    "# Resultado de los paso 1 y 2\n",
    "\n",
    "uexc = np.apply_along_axis(lambda row: row[1]*dEccentricityMax/(2*np.sqrt(3)*(nominalCalibrationMass+massCorrection)), 1, indicationPoints)\n",
    "\n",
    "# Resultado del paso 3 REVISAR\n",
    "urep = 0*np.ones((1,len(indicationPoints)))\n",
    "\n",
    "# Incertidumbre de excentricidad\n",
    "u2l = ures**2+uexc**2+urep**2\n",
    "\n",
    "utrazc = np.array(list(EMPs.items()))[:,1]/np.sqrt(3/2)\n",
    "\n",
    "uder = np.array(list(EMPs.items()))[:,1]/(3*np.sqrt(3))\n",
    "\n",
    "# REVISAR\n",
    "uempuje = 0*np.ones((1,len(indicationPoints)))\n",
    "\n",
    "# REVISAR\n",
    "uconv = 0*np.ones((1,len(indicationPoints)))\n",
    "\n",
    "# print(utrazc)\n",
    "\n",
    "# Incertidumbre de masa de referencia\n",
    "u2m = utrazc**2+uder**2+uempuje**2+uconv**2\n",
    "\n",
    "print(u2m)\n",
    "\n"
   ]
  }
 ],
 "metadata": {
  "kernelspec": {
   "display_name": "Python 3",
   "language": "python",
   "name": "python3"
  },
  "language_info": {
   "codemirror_mode": {
    "name": "ipython",
    "version": 3
   },
   "file_extension": ".py",
   "mimetype": "text/x-python",
   "name": "python",
   "nbconvert_exporter": "python",
   "pygments_lexer": "ipython3",
   "version": "3.10.8"
  }
 },
 "nbformat": 4,
 "nbformat_minor": 2
}
